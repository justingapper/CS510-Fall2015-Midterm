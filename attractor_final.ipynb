{
 "cells": [
  {
   "cell_type": "code",
   "execution_count": 12,
   "metadata": {
    "collapsed": false
   },
   "outputs": [],
   "source": [
    "version = 2.0\n",
    "import numpy as np\n",
    "import pandas as pd\n",
    "import matplotlib.pyplot as plt\n",
    "from mpl_toolkits.mplot3d import Axes3D\n",
    "from matplotlib import cm\n",
    "%matplotlib inline\n",
    "#import time as dt"
   ]
  },
  {
   "cell_type": "code",
   "execution_count": 13,
   "metadata": {
    "collapsed": true
   },
   "outputs": [],
   "source": [
    "class Attractor(object):\n",
    "    def __init__(self, s=10.0, p=28.0, b=8.0/3.0, start=0.0, end=80.0, points=10000):\n",
    "        self.s = s\n",
    "        self.p = p\n",
    "        self.b = b\n",
    "        self.start = start\n",
    "        self.end = end\n",
    "        self.points = points\n",
    "        self.params = np.array([s, p, b])\n",
    "        self.dt = (self.end-self.start)/self.points   \n",
    "        self.x = np.zeros([])\n",
    "        self.y = np.zeros([])\n",
    "        self.z = np.zeros([])\n",
    "        self.t = np.zeros([])\n",
    "        \n",
    "    def fxn1(self, yt, xt, ss, ddt):\n",
    "        return ss*(yt - xt)*ddt\n",
    "    \n",
    "    def fxn2(self, yt, xt, zt, pp, ddt):\n",
    "        return (xt*(pp - zt) - yt)*ddt\n",
    "    \n",
    "    def fxn3(self, yt, xt, zt, bb, ddt):\n",
    "        return (xt*yt - bb*zt)*ddt\n",
    "    \n",
    "    def euler(self, xyzarray):\n",
    "        self.x = np.zeros(self.points + 1)\n",
    "        self.y = np.zeros(self.points + 1)\n",
    "        self.z = np.zeros(self.points + 1)\n",
    "        self.t = np.zeros(self.points + 1)\n",
    "        \n",
    "        self.x[0] = xyzarray[0]\n",
    "        self.y[0] = xyzarray[1]\n",
    "        self.z[0] = xyzarray[2]\n",
    "                \n",
    "        for i in xrange(self.points):\n",
    "            self.x[i+1] = self.x[i] + self.fxn1(self.y[i],self.x[i],self.s,self.dt)\n",
    "            self.y[i+1] = self.y[i] + self.fxn2(self.y[i],self.x[i],self.z[i],self.p,self.dt)\n",
    "            self.z[i+1] = self.z[i] + self.fxn3(self.y[i],self.x[i],self.z[i],self.b,self.dt)\n",
    "            \n",
    "            self.t[i+1] = self.t[i] + self.dt\n",
    "                \n",
    "        return (self.x, self.y, self.z)\n",
    "    \n",
    "    def rk2(self, xyzarray):\n",
    "        self.x = np.zeros(self.points + 1)\n",
    "        self.y = np.zeros(self.points + 1)\n",
    "        self.z = np.zeros(self.points + 1)\n",
    "        self.t = np.zeros(self.points + 1)\n",
    "        \n",
    "        self.x[0] = xyzarray[0]\n",
    "        self.y[0] = xyzarray[1]\n",
    "        self.z[0] = xyzarray[2]\n",
    "        \n",
    "        for i in xrange(self.points):\n",
    "            k1_x = self.fxn1(self.y[i],self.x[i],self.s,self.dt)\n",
    "            k2_x = self.fxn1(self.y[i],k1_x*(.5*self.dt)+self.x[i],self.s,self.dt)\n",
    "            self.x[i+1] = self.x[i] + (.5*(k1_x + k2_x))\n",
    "            \n",
    "            k1_y = self.fxn2(self.y[i],self.x[i],self.z[i],self.p,self.dt)\n",
    "            k2_y = self.fxn2(self.y[i]+k1_y*(.5*self.dt),self.x[i],self.z[i],self.p,self.dt)\n",
    "            self.y[i+1] = self.y[i] + (.5*(k1_y + k2_y))\n",
    "            \n",
    "            k1_z = self.fxn3(self.y[i],self.x[i],self.z[i],self.b,self.dt)\n",
    "            k2_z = self.fxn3(self.y[i],self.x[i],self.z[i]+k1_z*(.5*self.dt),self.b,self.dt)\n",
    "            self.z[i+1] = self.z[i] + (.5*(k1_z + k2_z))\n",
    "            \n",
    "            self.t[i+1] = self.t[i] + self.dt\n",
    "               \n",
    "        return (self.x,self.y,self.z)\n",
    "    \n",
    "\n",
    "    def rk4(self, xyzarray):\n",
    "        self.x = np.zeros(self.points + 1)\n",
    "        self.y = np.zeros(self.points + 1)\n",
    "        self.z = np.zeros(self.points + 1)\n",
    "        self.t = np.zeros(self.points + 1)\n",
    "        \n",
    "        self.x[0] = xyzarray[0]\n",
    "        self.y[0] = xyzarray[1]\n",
    "        self.z[0] = xyzarray[2]\n",
    "        \n",
    "        for i in xrange(self.points):\n",
    "            k1_x = self.fxn1(self.y[i],self.x[i],self.s,self.dt)\n",
    "            k2_x = self.fxn1(self.y[i],k1_x*(.5*self.dt)+self.x[i],self.s,self.dt)\n",
    "            k3_x = self.fxn1(self.y[i],k2_x*(.5*self.dt)+self.x[i],self.s,self.dt)\n",
    "            k4_x = self.fxn1(self.y[i],k3_x*self.dt+self.x[i],self.s,self.dt)\n",
    "            self.x[i+1] = self.x[i] + (self.dt/6)*(k1_x + 2*k2_x + 2*k3_x + k4_x)\n",
    "            \n",
    "            k1_y = self.fxn2(self.y[i],self.x[i],self.z[i],self.p,self.dt)\n",
    "            k2_y = self.fxn2(self.y[i]+k1_y*(.5*self.dt),self.x[i],self.z[i],self.p,self.dt)\n",
    "            k3_y = self.fxn2(self.y[i]+k2_y*(.5*self.dt),self.x[i],self.z[i],self.p,self.dt)\n",
    "            k4_y = self.fxn2(self.y[i]+k3_y*self.dt,self.x[i],self.z[i],self.p,self.dt)\n",
    "            self.y[i+1] = self.y[i] + (self.dt/6)*(k1_y + 2*k2_y + 2*k3_y + k4_y)\n",
    "            \n",
    "            k1_z = self.fxn3(self.y[i],self.x[i],self.z[i],self.b,self.dt)\n",
    "            k2_z = self.fxn3(self.y[i],self.x[i],self.z[i]+k1_z*(.5*self.dt),self.b,self.dt)\n",
    "            k3_z = self.fxn3(self.y[i],self.x[i],self.z[i]+k2_z*(.5*self.dt),self.b,self.dt)\n",
    "            k4_z = self.fxn3(self.y[i],self.x[i],self.z[i]+k3_z*self.dt,self.b,self.dt)\n",
    "            self.z[i+1] = self.z[i] + (self.dt/6)*(k1_z + 2*k2_z + 2*k3_z + k4_z)\n",
    "        \n",
    "            self.t[i+1] = self.t[i] + self.dt\n",
    "        \n",
    "        return (self.x, self.y, self.z)\n",
    "    \n",
    "    def evolve(self,r0=[.1,0.0,0.0], order=4):\n",
    "        x0 = r0[0]\n",
    "        y0 = r0[1]\n",
    "        z0 = r0[2]\n",
    "        \n",
    "        if order == 1:\n",
    "            self.euler(r0)\n",
    "        elif order == 2:\n",
    "            self.rk2(r0)\n",
    "        else:\n",
    "            self.rk4(r0)\n",
    "\n",
    "        self.solution = pd.DataFrame({'time': self.t, 'x': self.x, 'y': self.y, 'z': self.z})\n",
    "        \n",
    "        return self.solution\n",
    "        \n",
    "    def save(self):\n",
    "        self.solution.to_csv('data.csv')\n",
    "              \n",
    "    def plotx(self):\n",
    "        self.solution.plot(x='time',y='x',style='g-', title = 'x(t) vs Time Solution')\n",
    "    \n",
    "    def ploty(self):\n",
    "        self.solution.plot(x='time',y='y',style='b-', title = 'y(t) vs Time Solution')\n",
    "    \n",
    "    def plotz(self):\n",
    "        self.solution.plot(x='time',y='z',style='r-', title = 'z(t) vs Time Solution')\n",
    "    \n",
    "    def plotxy(self):\n",
    "        self.solution.plot(x='x',y='y',style='y-', title = 'x(t) vs Time Solution')\n",
    "    \n",
    "    def plotyz(self):\n",
    "        self.solution.plot(x='y',y='z',style='m-', title = 'y(t) vs Time Solution')\n",
    "    \n",
    "    def plotzx(self):\n",
    "        self.solution.plot(x='z',y='x',style='c-', title = 'z(t) vs Time Solution')\n",
    "    \n",
    "    def plot3d(self):\n",
    "        fig = plt.figure()\n",
    "        ax = fig.gca(projection='3d')\n",
    "        ax.plot_trisurf(self.x, self.y, self.z, cmap=cm.jet, linewidth=.2)\n",
    "        ax.set_xlabel('x(t)')\n",
    "        ax.set_ylabel('y(t)')\n",
    "        ax.set_zlabel('z(t)')\n",
    "        plt.show()         \n",
    "        \n",
    "    def plot3dwf(self):\n",
    "        fig = plt.figure()\n",
    "        ax = fig.gca(projection='3d')\n",
    "        ax.plot_wireframe(self.x, self.y, self.z, rstride=10, cstride=10)\n",
    "        ax.set_xlabel('x(t)')\n",
    "        ax.set_ylabel('y(t)')\n",
    "        ax.set_zlabel('z(t)')\n",
    "        plt.show()         \n",
    "            "
   ]
  },
  {
   "cell_type": "code",
   "execution_count": 11,
   "metadata": {
    "collapsed": false
   },
   "outputs": [
    {
     "data": {
      "image/png": "[encoded data removed]",
      "text/plain": [
       "<matplotlib.figure.Figure at 0x7f2a8d4e9a90>"
      ]
     },
     "metadata": {},
     "output_type": "display_data"
    }
   ],
   "source": [
    "attr = Attractor()\n",
    "#attr.euler([1,2,3])\n",
    "#attr.rk2([1,2,3])\n",
    "#attr.rk4([1,2,3])\n",
    "attr.evolve([1,1,5], 4)\n",
    "#attr.save()\n",
    "#attr.plotx()\n",
    "#attr.ploty()\n",
    "#attr.plotz()\n",
    "#attr.plotxy()\n",
    "#attr.plotyz()\n",
    "#attr.plotzx()\n",
    "#attr.plot3d()\n",
    "attr.plot3dwf()"
   ]
  },
  {
   "cell_type": "code",
   "execution_count": 8,
   "metadata": {
    "collapsed": false
   },
   "outputs": [
    {
     "data": {
      "text/plain": [
       "array([ 10.        ,  28.        ,   2.66666667])"
      ]
     },
     "execution_count": 8,
     "metadata": {},
     "output_type": "execute_result"
    }
   ],
   "source": [
    "attr = Attractor()\n",
    "attr.params"
   ]
  },
  {
   "cell_type": "code",
   "execution_count": null,
   "metadata": {
    "collapsed": true
   },
   "outputs": [],
   "source": []
  }
 ],
 "metadata": {
  "kernelspec": {
   "display_name": "Python 2",
   "language": "python",
   "name": "python2"
  },
  "language_info": {
   "codemirror_mode": {
    "name": "ipython",
    "version": 2
   },
   "file_extension": ".py",
   "mimetype": "text/x-python",
   "name": "python",
   "nbconvert_exporter": "python",
   "pygments_lexer": "ipython2",
   "version": "2.7.9"
  },
  "name": "attractor_final.ipynb"
 },
 "nbformat": 4,
 "nbformat_minor": 0
}
